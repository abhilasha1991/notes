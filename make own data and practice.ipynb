{
 "cells": [
  {
   "cell_type": "code",
   "execution_count": 1,
   "id": "04fd8843",
   "metadata": {},
   "outputs": [],
   "source": [
    "#a=variable,20=data\n",
    "a=20\n",
    "b=19\n",
    "c=20.5\n",
    "d=10"
   ]
  },
  {
   "cell_type": "code",
   "execution_count": 2,
   "id": "f32a2304",
   "metadata": {},
   "outputs": [
    {
     "data": {
      "text/plain": [
       "int"
      ]
     },
     "execution_count": 2,
     "metadata": {},
     "output_type": "execute_result"
    }
   ],
   "source": [
    "type(a)"
   ]
  },
  {
   "cell_type": "code",
   "execution_count": 3,
   "id": "778fa026",
   "metadata": {},
   "outputs": [
    {
     "data": {
      "text/plain": [
       "int"
      ]
     },
     "execution_count": 3,
     "metadata": {},
     "output_type": "execute_result"
    }
   ],
   "source": [
    "type(b)\n",
    "type(c)\n",
    "type(d)"
   ]
  },
  {
   "cell_type": "code",
   "execution_count": 4,
   "id": "cbb2a84f",
   "metadata": {},
   "outputs": [
    {
     "data": {
      "text/plain": [
       "float"
      ]
     },
     "execution_count": 4,
     "metadata": {},
     "output_type": "execute_result"
    }
   ],
   "source": [
    "type(c)"
   ]
  },
  {
   "cell_type": "code",
   "execution_count": 5,
   "id": "82c675a3",
   "metadata": {},
   "outputs": [
    {
     "data": {
      "text/plain": [
       "205.0"
      ]
     },
     "execution_count": 5,
     "metadata": {},
     "output_type": "execute_result"
    }
   ],
   "source": [
    "#mathmatical operations\n",
    "c*d"
   ]
  },
  {
   "cell_type": "code",
   "execution_count": 6,
   "id": "f120a9df",
   "metadata": {},
   "outputs": [
    {
     "data": {
      "text/plain": [
       "206.05263157894737"
      ]
     },
     "execution_count": 6,
     "metadata": {},
     "output_type": "execute_result"
    }
   ],
   "source": [
    "c*d+a/b"
   ]
  },
  {
   "cell_type": "code",
   "execution_count": 18,
   "id": "a1746297",
   "metadata": {},
   "outputs": [
    {
     "data": {
      "text/plain": [
       "11.842105263157896"
      ]
     },
     "execution_count": 18,
     "metadata": {},
     "output_type": "execute_result"
    }
   ],
   "source": [
    "225/b"
   ]
  },
  {
   "cell_type": "code",
   "execution_count": 24,
   "id": "682dad24",
   "metadata": {},
   "outputs": [
    {
     "data": {
      "text/plain": [
       "225.00000000000003"
      ]
     },
     "execution_count": 24,
     "metadata": {},
     "output_type": "execute_result"
    }
   ],
   "source": [
    "11.842105263157896*19"
   ]
  },
  {
   "cell_type": "markdown",
   "id": "3c3a59db",
   "metadata": {},
   "source": [
    "# strings"
   ]
  },
  {
   "cell_type": "code",
   "execution_count": 9,
   "id": "3bedfd0a",
   "metadata": {},
   "outputs": [
    {
     "name": "stdout",
     "output_type": "stream",
     "text": [
      "anything inside a parenthes bracket known as strings,using print option remove inverted coma\n"
     ]
    }
   ],
   "source": [
    "print('anything inside a parenthes bracket known as strings,using print option remove inverted coma')"
   ]
  },
  {
   "cell_type": "code",
   "execution_count": 33,
   "id": "6a062391",
   "metadata": {},
   "outputs": [
    {
     "name": "stdout",
     "output_type": "stream",
     "text": [
      "we can also add different strings together\n"
     ]
    }
   ],
   "source": [
    "print('we can','also','add','different','strings','together')"
   ]
  },
  {
   "cell_type": "code",
   "execution_count": 51,
   "id": "db7cc9d4",
   "metadata": {},
   "outputs": [
    {
     "data": {
      "text/plain": [
       "'we canplus'"
      ]
     },
     "execution_count": 51,
     "metadata": {},
     "output_type": "execute_result"
    }
   ],
   "source": [
    "('we ' +'can' +'plus')"
   ]
  },
  {
   "cell_type": "code",
   "execution_count": 50,
   "id": "c64f5120",
   "metadata": {},
   "outputs": [
    {
     "name": "stdout",
     "output_type": "stream",
     "text": [
      "plus string\n"
     ]
    }
   ],
   "source": [
    "print(\"plus \"+\"string\")"
   ]
  },
  {
   "cell_type": "code",
   "execution_count": 10,
   "id": "bdac7dd0",
   "metadata": {},
   "outputs": [],
   "source": [
    "first_string='me'\n",
    "second_string='you'\n",
    "third_string='hum'"
   ]
  },
  {
   "cell_type": "code",
   "execution_count": 11,
   "id": "be19f297",
   "metadata": {},
   "outputs": [
    {
     "name": "stdout",
     "output_type": "stream",
     "text": [
      "meyouhum\n"
     ]
    }
   ],
   "source": [
    "print(first_string +second_string +third_string)"
   ]
  },
  {
   "cell_type": "code",
   "execution_count": 13,
   "id": "6b91a374",
   "metadata": {},
   "outputs": [
    {
     "data": {
      "text/plain": [
       "int"
      ]
     },
     "execution_count": 13,
     "metadata": {},
     "output_type": "execute_result"
    }
   ],
   "source": [
    "type(12)"
   ]
  },
  {
   "cell_type": "code",
   "execution_count": 47,
   "id": "5219651a",
   "metadata": {},
   "outputs": [
    {
     "data": {
      "text/plain": [
       "str"
      ]
     },
     "execution_count": 47,
     "metadata": {},
     "output_type": "execute_result"
    }
   ],
   "source": [
    "type(first_string)"
   ]
  },
  {
   "cell_type": "code",
   "execution_count": 14,
   "id": "399e793d",
   "metadata": {},
   "outputs": [
    {
     "data": {
      "text/plain": [
       "'karunya karunya karunya karunya karunya '"
      ]
     },
     "execution_count": 14,
     "metadata": {},
     "output_type": "execute_result"
    }
   ],
   "source": [
    "('karunya '*5)\n"
   ]
  },
  {
   "cell_type": "code",
   "execution_count": 15,
   "id": "b3bde33f",
   "metadata": {},
   "outputs": [
    {
     "data": {
      "text/plain": [
       "'karunya got 30 marks in maths'"
      ]
     },
     "execution_count": 15,
     "metadata": {},
     "output_type": "execute_result"
    }
   ],
   "source": [
    "#if i want to add the number to the strings so you have to first convert number to strings\n",
    "('karunya got ''30 ''marks in maths')"
   ]
  },
  {
   "cell_type": "code",
   "execution_count": 16,
   "id": "1365ec04",
   "metadata": {},
   "outputs": [
    {
     "name": "stdout",
     "output_type": "stream",
     "text": [
      "karunya 2017\n"
     ]
    }
   ],
   "source": [
    "print('karunya '+ '2017') #inverted coma removed with print option"
   ]
  },
  {
   "cell_type": "markdown",
   "id": "31d7da3d",
   "metadata": {},
   "source": [
    "# list"
   ]
  },
  {
   "cell_type": "code",
   "execution_count": 19,
   "id": "ca977df5",
   "metadata": {},
   "outputs": [
    {
     "data": {
      "text/plain": [
       "['a', 'b', 'h', 'i', 'l', 'a', 's', 'h', 'a']"
      ]
     },
     "execution_count": 19,
     "metadata": {},
     "output_type": "execute_result"
    }
   ],
   "source": [
    "#list of anything stored in a []and it is mutable(means making any changes like delete,edit,replce,insert,sort,reverse anything)lets have some examples\n",
    "list('abhilasha')"
   ]
  },
  {
   "cell_type": "code",
   "execution_count": 35,
   "id": "056b4945",
   "metadata": {},
   "outputs": [],
   "source": [
    "#we can make empty list also\n",
    "l3=[]"
   ]
  },
  {
   "cell_type": "code",
   "execution_count": 20,
   "id": "b769f373",
   "metadata": {},
   "outputs": [],
   "source": [
    "#lets make a list of employee and practice some mutable method\n",
    "l = ['pradeep ', 'arshad ','sumit ','arvind']"
   ]
  },
  {
   "cell_type": "code",
   "execution_count": 3,
   "id": "ac6e4da5",
   "metadata": {},
   "outputs": [
    {
     "data": {
      "text/plain": [
       "['pradeep ', 'arshad ', 'sumit ', 'arvind']"
      ]
     },
     "execution_count": 3,
     "metadata": {},
     "output_type": "execute_result"
    }
   ],
   "source": [
    "#copy the list,but original were remain same\n",
    "l2=list(l)\n",
    "l2"
   ]
  },
  {
   "cell_type": "code",
   "execution_count": 4,
   "id": "8bec5766",
   "metadata": {},
   "outputs": [
    {
     "data": {
      "text/plain": [
       "['pradeep ', 'arshad ', 'sumit ', 'arvind', 'arbaaz ']"
      ]
     },
     "execution_count": 4,
     "metadata": {},
     "output_type": "execute_result"
    }
   ],
   "source": [
    "#lets add another employee to the list by append method\n",
    "l.append('arbaaz ')\n",
    "l"
   ]
  },
  {
   "cell_type": "code",
   "execution_count": 5,
   "id": "621af903",
   "metadata": {},
   "outputs": [
    {
     "data": {
      "text/plain": [
       "['pradeep ', 'arshad ', 'sumit ', 'arvind']"
      ]
     },
     "execution_count": 5,
     "metadata": {},
     "output_type": "execute_result"
    }
   ],
   "source": [
    "l2"
   ]
  },
  {
   "cell_type": "code",
   "execution_count": 6,
   "id": "60d58152",
   "metadata": {},
   "outputs": [
    {
     "data": {
      "text/plain": [
       "['pradeep ', 'arshad ', 'sumit ', 'arvind', 'arbaaz ']"
      ]
     },
     "execution_count": 6,
     "metadata": {},
     "output_type": "execute_result"
    }
   ],
   "source": [
    "l"
   ]
  },
  {
   "cell_type": "code",
   "execution_count": 7,
   "id": "cddbaa4e",
   "metadata": {},
   "outputs": [
    {
     "data": {
      "text/plain": [
       "'arbaaz '"
      ]
     },
     "execution_count": 7,
     "metadata": {},
     "output_type": "execute_result"
    }
   ],
   "source": [
    "#delete the one name out of two,by default it will pop last one\n",
    "l.pop()"
   ]
  },
  {
   "cell_type": "code",
   "execution_count": 8,
   "id": "82e17577",
   "metadata": {},
   "outputs": [
    {
     "data": {
      "text/plain": [
       "['pradeep ', 'arshad ', 'sumit ', 'arvind']"
      ]
     },
     "execution_count": 8,
     "metadata": {},
     "output_type": "execute_result"
    }
   ],
   "source": [
    "l"
   ]
  },
  {
   "cell_type": "code",
   "execution_count": 21,
   "id": "8e1dfaa3",
   "metadata": {},
   "outputs": [
    {
     "data": {
      "text/plain": [
       "'arshad '"
      ]
     },
     "execution_count": 21,
     "metadata": {},
     "output_type": "execute_result"
    }
   ],
   "source": [
    "#pop by indexing we can pop(delete) which we want \n",
    "l.pop(1)"
   ]
  },
  {
   "cell_type": "code",
   "execution_count": 23,
   "id": "f398346c",
   "metadata": {},
   "outputs": [
    {
     "data": {
      "text/plain": [
       "['pradeep ', 'sumit ', 'arvind']"
      ]
     },
     "execution_count": 23,
     "metadata": {},
     "output_type": "execute_result"
    }
   ],
   "source": [
    "l"
   ]
  },
  {
   "cell_type": "code",
   "execution_count": 11,
   "id": "c67df05d",
   "metadata": {},
   "outputs": [],
   "source": [
    "#insert in between anything by index\n",
    "l.insert(1,'arshad ')\n"
   ]
  },
  {
   "cell_type": "code",
   "execution_count": 12,
   "id": "4ce3207a",
   "metadata": {},
   "outputs": [
    {
     "data": {
      "text/plain": [
       "['pradeep ', 'arshad ', 'sumit ', 'arvind']"
      ]
     },
     "execution_count": 12,
     "metadata": {},
     "output_type": "execute_result"
    }
   ],
   "source": [
    "l"
   ]
  },
  {
   "cell_type": "code",
   "execution_count": 13,
   "id": "c06d7041",
   "metadata": {},
   "outputs": [
    {
     "data": {
      "text/plain": [
       "'arshad '"
      ]
     },
     "execution_count": 13,
     "metadata": {},
     "output_type": "execute_result"
    }
   ],
   "source": [
    "#slicing by index\n",
    "l[1]"
   ]
  },
  {
   "cell_type": "code",
   "execution_count": 14,
   "id": "aad57158",
   "metadata": {},
   "outputs": [
    {
     "data": {
      "text/plain": [
       "'pradeep '"
      ]
     },
     "execution_count": 14,
     "metadata": {},
     "output_type": "execute_result"
    }
   ],
   "source": [
    "l[0]"
   ]
  },
  {
   "cell_type": "code",
   "execution_count": 15,
   "id": "93861eed",
   "metadata": {},
   "outputs": [
    {
     "data": {
      "text/plain": [
       "['pradeep ', 'rohit', 'sumit ', 'arvind']"
      ]
     },
     "execution_count": 15,
     "metadata": {},
     "output_type": "execute_result"
    }
   ],
   "source": [
    "#if i want to replace any name,so it will do with the index\n",
    "l[1]='rohit'\n",
    "l"
   ]
  },
  {
   "cell_type": "code",
   "execution_count": 16,
   "id": "cb49c52f",
   "metadata": {},
   "outputs": [
    {
     "data": {
      "text/plain": [
       "['rohit', 'sumit ', 'arvind']"
      ]
     },
     "execution_count": 16,
     "metadata": {},
     "output_type": "execute_result"
    }
   ],
   "source": [
    "#grabing by index\n",
    "l[1:]\n",
    "#if we enter index 1 than it will grab everything after 1 including it"
   ]
  },
  {
   "cell_type": "code",
   "execution_count": 17,
   "id": "5cb09484",
   "metadata": {},
   "outputs": [
    {
     "data": {
      "text/plain": [
       "['pradeep ', 'rohit', 'sumit ']"
      ]
     },
     "execution_count": 17,
     "metadata": {},
     "output_type": "execute_result"
    }
   ],
   "source": [
    "l[:3]\n",
    "#if we grab before third so  it will grabeverything before it accept it"
   ]
  },
  {
   "cell_type": "code",
   "execution_count": 18,
   "id": "07702023",
   "metadata": {},
   "outputs": [
    {
     "data": {
      "text/plain": [
       "['pradeep ', 'rohit', 'sumit ', 'arvind']"
      ]
     },
     "execution_count": 18,
     "metadata": {},
     "output_type": "execute_result"
    }
   ],
   "source": [
    "#indexing,grabing,slicing does not affect main list\n",
    "l"
   ]
  },
  {
   "cell_type": "code",
   "execution_count": 19,
   "id": "6b538e9b",
   "metadata": {},
   "outputs": [
    {
     "data": {
      "text/plain": [
       "['rohit', 'sumit ']"
      ]
     },
     "execution_count": 19,
     "metadata": {},
     "output_type": "execute_result"
    }
   ],
   "source": [
    "l[1:3]"
   ]
  },
  {
   "cell_type": "code",
   "execution_count": 20,
   "id": "1934ff8b",
   "metadata": {},
   "outputs": [],
   "source": [
    "l=l+['mahehs']\n",
    "#we can plus the element like like this also,reassigning to keep the data permanent"
   ]
  },
  {
   "cell_type": "code",
   "execution_count": 21,
   "id": "c67d1648",
   "metadata": {},
   "outputs": [
    {
     "data": {
      "text/plain": [
       "['pradeep ', 'rohit', 'sumit ', 'arvind', 'mahehs']"
      ]
     },
     "execution_count": 21,
     "metadata": {},
     "output_type": "execute_result"
    }
   ],
   "source": [
    "l"
   ]
  },
  {
   "cell_type": "code",
   "execution_count": 22,
   "id": "68d1f536",
   "metadata": {},
   "outputs": [
    {
     "data": {
      "text/plain": [
       "['pradeep ', 'rohit', 'sumit ', 'arvind', 'mahehs', 'jitend']"
      ]
     },
     "execution_count": 22,
     "metadata": {},
     "output_type": "execute_result"
    }
   ],
   "source": [
    "l+['jitend']\n",
    "#but this method does not change original list"
   ]
  },
  {
   "cell_type": "code",
   "execution_count": 23,
   "id": "64baa0c6",
   "metadata": {},
   "outputs": [
    {
     "data": {
      "text/plain": [
       "['pradeep ', 'rohit', 'sumit ', 'arvind', 'mahehs']"
      ]
     },
     "execution_count": 23,
     "metadata": {},
     "output_type": "execute_result"
    }
   ],
   "source": [
    "l"
   ]
  },
  {
   "cell_type": "code",
   "execution_count": 24,
   "id": "19581fa2",
   "metadata": {},
   "outputs": [
    {
     "data": {
      "text/plain": [
       "['pradeep ',\n",
       " 'rohit',\n",
       " 'sumit ',\n",
       " 'arvind',\n",
       " 'mahehs',\n",
       " 'pradeep ',\n",
       " 'rohit',\n",
       " 'sumit ',\n",
       " 'arvind',\n",
       " 'mahehs']"
      ]
     },
     "execution_count": 24,
     "metadata": {},
     "output_type": "execute_result"
    }
   ],
   "source": [
    "#make the list double\n",
    "l*2\n",
    "#it will not change main list"
   ]
  },
  {
   "cell_type": "code",
   "execution_count": 25,
   "id": "26b2636c",
   "metadata": {},
   "outputs": [
    {
     "data": {
      "text/plain": [
       "['pradeep ', 'rohit', 'sumit ', 'arvind', 'mahehs']"
      ]
     },
     "execution_count": 25,
     "metadata": {},
     "output_type": "execute_result"
    }
   ],
   "source": [
    "l"
   ]
  },
  {
   "cell_type": "code",
   "execution_count": 26,
   "id": "a64db630",
   "metadata": {},
   "outputs": [
    {
     "data": {
      "text/plain": [
       "'=========================================================================================='"
      ]
     },
     "execution_count": 26,
     "metadata": {},
     "output_type": "execute_result"
    }
   ],
   "source": [
    "90*'='"
   ]
  },
  {
   "cell_type": "markdown",
   "id": "9bcb9e03",
   "metadata": {},
   "source": [
    "# advanced list"
   ]
  },
  {
   "cell_type": "code",
   "execution_count": 28,
   "id": "bd0e56cc",
   "metadata": {},
   "outputs": [
    {
     "data": {
      "text/plain": [
       "['pradeep ',\n",
       " 'rohit',\n",
       " 'sumit ',\n",
       " 'arvind',\n",
       " 'mahehs',\n",
       " ['balram arun'],\n",
       " ['balram ', 'arun']]"
      ]
     },
     "execution_count": 28,
     "metadata": {},
     "output_type": "execute_result"
    }
   ],
   "source": [
    "# extend method\n",
    "#if we append\n",
    "l.append(['balram ','arun'])\n",
    "l"
   ]
  },
  {
   "cell_type": "code",
   "execution_count": 29,
   "id": "c3d99de3",
   "metadata": {},
   "outputs": [
    {
     "data": {
      "text/plain": [
       "['pradeep ',\n",
       " 'rohit',\n",
       " 'sumit ',\n",
       " 'arvind',\n",
       " 'mahehs',\n",
       " ['balram arun'],\n",
       " ['balram ', 'arun'],\n",
       " 'balram ',\n",
       " 'arun']"
      ]
     },
     "execution_count": 29,
     "metadata": {},
     "output_type": "execute_result"
    }
   ],
   "source": [
    "l.extend(['balram ','arun'])\n",
    "l"
   ]
  },
  {
   "cell_type": "code",
   "execution_count": 30,
   "id": "5df3649f",
   "metadata": {},
   "outputs": [
    {
     "data": {
      "text/plain": [
       "['balram arun']"
      ]
     },
     "execution_count": 30,
     "metadata": {},
     "output_type": "execute_result"
    }
   ],
   "source": [
    "l.pop(5)"
   ]
  },
  {
   "cell_type": "code",
   "execution_count": 31,
   "id": "b0b30483",
   "metadata": {},
   "outputs": [
    {
     "data": {
      "text/plain": [
       "['pradeep ',\n",
       " 'rohit',\n",
       " 'sumit ',\n",
       " 'arvind',\n",
       " 'mahehs',\n",
       " ['balram ', 'arun'],\n",
       " 'balram ',\n",
       " 'arun']"
      ]
     },
     "execution_count": 31,
     "metadata": {},
     "output_type": "execute_result"
    }
   ],
   "source": [
    "l"
   ]
  },
  {
   "cell_type": "code",
   "execution_count": 34,
   "id": "0f5bde63",
   "metadata": {},
   "outputs": [],
   "source": [
    "l.insert(6,'balram')"
   ]
  },
  {
   "cell_type": "code",
   "execution_count": 35,
   "id": "6c24f1af",
   "metadata": {},
   "outputs": [
    {
     "data": {
      "text/plain": [
       "['pradeep ',\n",
       " 'rohit',\n",
       " 'sumit ',\n",
       " 'arvind',\n",
       " 'mahehs',\n",
       " ['balram ', 'arun'],\n",
       " 'balram',\n",
       " 'arun']"
      ]
     },
     "execution_count": 35,
     "metadata": {},
     "output_type": "execute_result"
    }
   ],
   "source": [
    "l"
   ]
  },
  {
   "cell_type": "code",
   "execution_count": 36,
   "id": "404272d0",
   "metadata": {},
   "outputs": [
    {
     "data": {
      "text/plain": [
       "['balram ', 'arun']"
      ]
     },
     "execution_count": 36,
     "metadata": {},
     "output_type": "execute_result"
    }
   ],
   "source": [
    "l.pop(5)"
   ]
  },
  {
   "cell_type": "code",
   "execution_count": 37,
   "id": "8ef32c36",
   "metadata": {},
   "outputs": [
    {
     "data": {
      "text/plain": [
       "['pradeep ', 'rohit', 'sumit ', 'arvind', 'mahehs', 'balram', 'arun']"
      ]
     },
     "execution_count": 37,
     "metadata": {},
     "output_type": "execute_result"
    }
   ],
   "source": [
    "l"
   ]
  },
  {
   "cell_type": "code",
   "execution_count": 38,
   "id": "bd4c40f2",
   "metadata": {},
   "outputs": [],
   "source": [
    "marks=[8,9,9,8,9,7,6,7,8,9,]"
   ]
  },
  {
   "cell_type": "markdown",
   "id": "bee98023",
   "metadata": {},
   "source": [
    "#### count"
   ]
  },
  {
   "cell_type": "code",
   "execution_count": 39,
   "id": "2d8bd44a",
   "metadata": {},
   "outputs": [
    {
     "data": {
      "text/plain": [
       "4"
      ]
     },
     "execution_count": 39,
     "metadata": {},
     "output_type": "execute_result"
    }
   ],
   "source": [
    "\n",
    "marks.count(9)\n",
    "#it will count total number of same as 9"
   ]
  },
  {
   "cell_type": "markdown",
   "id": "324641df",
   "metadata": {},
   "source": [
    "### index"
   ]
  },
  {
   "cell_type": "code",
   "execution_count": 40,
   "id": "ae0c81a2",
   "metadata": {},
   "outputs": [
    {
     "data": {
      "text/plain": [
       "5"
      ]
     },
     "execution_count": 40,
     "metadata": {},
     "output_type": "execute_result"
    }
   ],
   "source": [
    "marks.index(7)\n",
    "#it will show first index"
   ]
  },
  {
   "cell_type": "markdown",
   "id": "2ce7a9f8",
   "metadata": {},
   "source": [
    "### remove method"
   ]
  },
  {
   "cell_type": "code",
   "execution_count": 41,
   "id": "33b48d10",
   "metadata": {},
   "outputs": [],
   "source": [
    "#remove 1st one if same element is there\n",
    "marks.remove(9)"
   ]
  },
  {
   "cell_type": "code",
   "execution_count": 50,
   "id": "b9d9afae",
   "metadata": {},
   "outputs": [
    {
     "data": {
      "text/plain": [
       "[6, 7, 7, 8, 8, 8, 9, 9, 9]"
      ]
     },
     "execution_count": 50,
     "metadata": {},
     "output_type": "execute_result"
    }
   ],
   "source": [
    "marks"
   ]
  },
  {
   "cell_type": "markdown",
   "id": "37bfdb9b",
   "metadata": {},
   "source": [
    "### reverse"
   ]
  },
  {
   "cell_type": "code",
   "execution_count": 51,
   "id": "3762c5a3",
   "metadata": {},
   "outputs": [],
   "source": [
    "marks.reverse()"
   ]
  },
  {
   "cell_type": "code",
   "execution_count": 52,
   "id": "cb7cfa35",
   "metadata": {},
   "outputs": [
    {
     "data": {
      "text/plain": [
       "[9, 9, 9, 8, 8, 8, 7, 7, 6]"
      ]
     },
     "execution_count": 52,
     "metadata": {},
     "output_type": "execute_result"
    }
   ],
   "source": [
    "marks"
   ]
  },
  {
   "cell_type": "markdown",
   "id": "1fc7c12f",
   "metadata": {},
   "source": [
    "### sort"
   ]
  },
  {
   "cell_type": "code",
   "execution_count": 54,
   "id": "5e3046df",
   "metadata": {},
   "outputs": [
    {
     "data": {
      "text/plain": [
       "[6, 7, 7, 8, 8, 8, 9, 9, 9]"
      ]
     },
     "execution_count": 54,
     "metadata": {},
     "output_type": "execute_result"
    }
   ],
   "source": [
    "marks.sort()\n",
    "marks\n",
    "#by default it will sort in assending order"
   ]
  },
  {
   "cell_type": "code",
   "execution_count": 56,
   "id": "501e7616",
   "metadata": {},
   "outputs": [
    {
     "data": {
      "text/plain": [
       "[9, 9, 9, 8, 8, 8, 7, 7, 6]"
      ]
     },
     "execution_count": 56,
     "metadata": {},
     "output_type": "execute_result"
    }
   ],
   "source": [
    "marks.sort(reverse=True)\n",
    "marks\n",
    "#by this method it will sort descending order"
   ]
  },
  {
   "cell_type": "markdown",
   "id": "7389b48a",
   "metadata": {},
   "source": [
    "# tuples"
   ]
  },
  {
   "cell_type": "code",
   "execution_count": 2,
   "id": "a1016471",
   "metadata": {},
   "outputs": [],
   "source": [
    "#tupples are used parnthus bracket,they are immutable and two methds are used for the tuple .count and .index"
   ]
  },
  {
   "cell_type": "code",
   "execution_count": 4,
   "id": "04d39632",
   "metadata": {},
   "outputs": [
    {
     "data": {
      "text/plain": [
       "tuple"
      ]
     },
     "execution_count": 4,
     "metadata": {},
     "output_type": "execute_result"
    }
   ],
   "source": [
    "#construct a tuple\n",
    "family_members=('badri','abhi','karunya','jaswant','geeta','mahendra','narendra','surendra','jitendra')\n",
    "type(family_members)"
   ]
  },
  {
   "cell_type": "code",
   "execution_count": 6,
   "id": "3f4c6612",
   "metadata": {},
   "outputs": [
    {
     "data": {
      "text/plain": [
       "1"
      ]
     },
     "execution_count": 6,
     "metadata": {},
     "output_type": "execute_result"
    }
   ],
   "source": [
    "family_members.count('badri')"
   ]
  },
  {
   "cell_type": "code",
   "execution_count": 8,
   "id": "4ef8bd8a",
   "metadata": {},
   "outputs": [
    {
     "data": {
      "text/plain": [
       "1"
      ]
     },
     "execution_count": 8,
     "metadata": {},
     "output_type": "execute_result"
    }
   ],
   "source": [
    "family_members.index('abhi')"
   ]
  },
  {
   "cell_type": "code",
   "execution_count": 9,
   "id": "bb9bf285",
   "metadata": {},
   "outputs": [
    {
     "data": {
      "text/plain": [
       "['badri',\n",
       " 'abhi',\n",
       " 'karunya',\n",
       " 'jaswant',\n",
       " 'geeta',\n",
       " 'mahendra',\n",
       " 'narendra',\n",
       " 'surendra',\n",
       " 'jitendra']"
      ]
     },
     "execution_count": 9,
     "metadata": {},
     "output_type": "execute_result"
    }
   ],
   "source": [
    "#we want to change something\n",
    "family=list(family_members)\n",
    "family"
   ]
  },
  {
   "cell_type": "code",
   "execution_count": 11,
   "id": "b82f943f",
   "metadata": {},
   "outputs": [],
   "source": [
    "family.append('aradhna')\n"
   ]
  },
  {
   "cell_type": "code",
   "execution_count": 12,
   "id": "f6ba47de",
   "metadata": {},
   "outputs": [
    {
     "data": {
      "text/plain": [
       "['badri',\n",
       " 'abhi',\n",
       " 'karunya',\n",
       " 'jaswant',\n",
       " 'geeta',\n",
       " 'mahendra',\n",
       " 'narendra',\n",
       " 'surendra',\n",
       " 'jitendra',\n",
       " 'aradhna']"
      ]
     },
     "execution_count": 12,
     "metadata": {},
     "output_type": "execute_result"
    }
   ],
   "source": [
    "family"
   ]
  },
  {
   "cell_type": "code",
   "execution_count": 14,
   "id": "0da580ff",
   "metadata": {},
   "outputs": [
    {
     "data": {
      "text/plain": [
       "['badri',\n",
       " 'abhi',\n",
       " 'karunya',\n",
       " 'jaswant',\n",
       " 'geeta',\n",
       " 'mahendra',\n",
       " 'narendra',\n",
       " 'surendra',\n",
       " 'jitendra',\n",
       " 'aradhna',\n",
       " 'kavita',\n",
       " 'neha']"
      ]
     },
     "execution_count": 14,
     "metadata": {},
     "output_type": "execute_result"
    }
   ],
   "source": [
    "#if we want to add more person in one time\n",
    "family.extend(['kavita','neha'])\n",
    "family"
   ]
  },
  {
   "cell_type": "code",
   "execution_count": 16,
   "id": "8390a33c",
   "metadata": {},
   "outputs": [
    {
     "data": {
      "text/plain": [
       "('badri',\n",
       " 'abhi',\n",
       " 'karunya',\n",
       " 'jaswant',\n",
       " 'geeta',\n",
       " 'mahendra',\n",
       " 'narendra',\n",
       " 'surendra',\n",
       " 'jitendra',\n",
       " 'aradhna',\n",
       " 'kavita',\n",
       " 'neha')"
      ]
     },
     "execution_count": 16,
     "metadata": {},
     "output_type": "execute_result"
    }
   ],
   "source": [
    "family_members=tuple(family)\n",
    "family_members"
   ]
  },
  {
   "cell_type": "code",
   "execution_count": 17,
   "id": "4358cc6c",
   "metadata": {},
   "outputs": [
    {
     "data": {
      "text/plain": [
       "12"
      ]
     },
     "execution_count": 17,
     "metadata": {},
     "output_type": "execute_result"
    }
   ],
   "source": [
    "len(family_members)"
   ]
  },
  {
   "cell_type": "code",
   "execution_count": 18,
   "id": "1822beea",
   "metadata": {},
   "outputs": [
    {
     "data": {
      "text/plain": [
       "'abhi'"
      ]
     },
     "execution_count": 18,
     "metadata": {},
     "output_type": "execute_result"
    }
   ],
   "source": [
    "family_members[1]"
   ]
  },
  {
   "cell_type": "code",
   "execution_count": 19,
   "id": "95ce10ca",
   "metadata": {},
   "outputs": [
    {
     "data": {
      "text/plain": [
       "'kavita'"
      ]
     },
     "execution_count": 19,
     "metadata": {},
     "output_type": "execute_result"
    }
   ],
   "source": [
    "family_members[-2]"
   ]
  },
  {
   "cell_type": "markdown",
   "id": "04b3c43d",
   "metadata": {},
   "source": [
    "## sets"
   ]
  },
  {
   "cell_type": "code",
   "execution_count": 24,
   "id": "43046f79",
   "metadata": {},
   "outputs": [],
   "source": [
    "# sets are mainly in curly bracket,(they are for eliminate the data and sort the things)\n",
    "r_no=set()"
   ]
  },
  {
   "cell_type": "code",
   "execution_count": 30,
   "id": "08499250",
   "metadata": {},
   "outputs": [
    {
     "data": {
      "text/plain": [
       "{1, 2, 3}"
      ]
     },
     "execution_count": 30,
     "metadata": {},
     "output_type": "execute_result"
    }
   ],
   "source": [
    "r_no.add(1)\n",
    "r_no.add(2)\n",
    "r_no.add(3)\n",
    "r_no"
   ]
  },
  {
   "cell_type": "code",
   "execution_count": 31,
   "id": "b8a31bfb",
   "metadata": {},
   "outputs": [
    {
     "data": {
      "text/plain": [
       "{1, 2, 3}"
      ]
     },
     "execution_count": 31,
     "metadata": {},
     "output_type": "execute_result"
    }
   ],
   "source": [
    "#lets try more adding\n",
    "r_no.add(1)\n",
    "r_no"
   ]
  },
  {
   "cell_type": "code",
   "execution_count": 32,
   "id": "cc7d15fd",
   "metadata": {},
   "outputs": [],
   "source": [
    "#they show only one value if there are a duplicate"
   ]
  },
  {
   "cell_type": "code",
   "execution_count": 33,
   "id": "a36929a7",
   "metadata": {},
   "outputs": [
    {
     "data": {
      "text/plain": [
       "{1, 2, 3, 4, 9}"
      ]
     },
     "execution_count": 33,
     "metadata": {},
     "output_type": "execute_result"
    }
   ],
   "source": [
    "r_no.add(9)\n",
    "r_no.add(4)\n",
    "r_no"
   ]
  },
  {
   "cell_type": "code",
   "execution_count": 35,
   "id": "a113c9a2",
   "metadata": {},
   "outputs": [
    {
     "data": {
      "text/plain": [
       "{1, 2, 3, 4, 6, 9, 10}"
      ]
     },
     "execution_count": 35,
     "metadata": {},
     "output_type": "execute_result"
    }
   ],
   "source": [
    "r_no.add(10)\n",
    "r_no.add(6)\n",
    "r_no"
   ]
  },
  {
   "cell_type": "code",
   "execution_count": 43,
   "id": "40d3ee50",
   "metadata": {},
   "outputs": [],
   "source": [
    "# they sort the content"
   ]
  },
  {
   "cell_type": "code",
   "execution_count": 42,
   "id": "981e330d",
   "metadata": {},
   "outputs": [
    {
     "data": {
      "text/plain": [
       "{'abhi', 'dhappi', 'karunya'}"
      ]
     },
     "execution_count": 42,
     "metadata": {},
     "output_type": "execute_result"
    }
   ],
   "source": [
    "names=set()\n",
    "names.add('dhappi')\n",
    "names.add('abhi')\n",
    "names.add('karunya')\n",
    "names.add('abhi')\n",
    "names\n",
    "#similary for the alphabete tyey can sort alphabatically,did not show the duplicate"
   ]
  },
  {
   "cell_type": "markdown",
   "id": "b4d27120",
   "metadata": {},
   "source": [
    "# dictionaries"
   ]
  },
  {
   "cell_type": "code",
   "execution_count": 99,
   "id": "0c1e227f",
   "metadata": {},
   "outputs": [],
   "source": [
    "fifth = {}\n",
    "fifth =({'key:value'})"
   ]
  },
  {
   "cell_type": "code",
   "execution_count": 120,
   "id": "40f3c644",
   "metadata": {},
   "outputs": [],
   "source": [
    "sixth = {'saksham':43,'yusra':44}"
   ]
  },
  {
   "cell_type": "code",
   "execution_count": 121,
   "id": "66dfa25a",
   "metadata": {},
   "outputs": [
    {
     "data": {
      "text/plain": [
       "{'key:value'}"
      ]
     },
     "execution_count": 121,
     "metadata": {},
     "output_type": "execute_result"
    }
   ],
   "source": [
    "fifth"
   ]
  },
  {
   "cell_type": "code",
   "execution_count": 123,
   "id": "e950efcc",
   "metadata": {},
   "outputs": [
    {
     "data": {
      "text/plain": [
       "{'saksham': 43, 'yusra': 44, 'virat': 67}"
      ]
     },
     "execution_count": 123,
     "metadata": {},
     "output_type": "execute_result"
    }
   ],
   "source": [
    "sixth.update({'virat':67})\n",
    "sixth\n"
   ]
  },
  {
   "cell_type": "code",
   "execution_count": 124,
   "id": "bb96186d",
   "metadata": {},
   "outputs": [
    {
     "data": {
      "text/plain": [
       "43"
      ]
     },
     "execution_count": 124,
     "metadata": {},
     "output_type": "execute_result"
    }
   ],
   "source": [
    "sixth ['saksham']"
   ]
  },
  {
   "cell_type": "code",
   "execution_count": 127,
   "id": "1ccf9c2c",
   "metadata": {},
   "outputs": [
    {
     "ename": "AttributeError",
     "evalue": "'int' object has no attribute 'upper'",
     "output_type": "error",
     "traceback": [
      "\u001b[1;31m---------------------------------------------------------------------------\u001b[0m",
      "\u001b[1;31mAttributeError\u001b[0m                            Traceback (most recent call last)",
      "\u001b[1;32m~\\AppData\\Local\\Temp/ipykernel_6784/2526672782.py\u001b[0m in \u001b[0;36m<module>\u001b[1;34m\u001b[0m\n\u001b[1;32m----> 1\u001b[1;33m \u001b[0msixth\u001b[0m\u001b[1;33m[\u001b[0m\u001b[1;34m'yusra'\u001b[0m\u001b[1;33m]\u001b[0m\u001b[1;33m.\u001b[0m\u001b[0mupper\u001b[0m\u001b[1;33m(\u001b[0m\u001b[1;33m)\u001b[0m\u001b[1;33m\u001b[0m\u001b[1;33m\u001b[0m\u001b[0m\n\u001b[0m",
      "\u001b[1;31mAttributeError\u001b[0m: 'int' object has no attribute 'upper'"
     ]
    }
   ],
   "source": [
    "sixth['yusra'].upper()"
   ]
  },
  {
   "cell_type": "code",
   "execution_count": 130,
   "id": "42166d72",
   "metadata": {},
   "outputs": [],
   "source": [
    "my_marks={'rollnumber':1,'subject':['science','so_science','maths','hindi','english'],'marks':[80,90,80,70,78,89]}"
   ]
  },
  {
   "cell_type": "code",
   "execution_count": 131,
   "id": "2e25536c",
   "metadata": {},
   "outputs": [
    {
     "data": {
      "text/plain": [
       "{'rollnumber': 1,\n",
       " 'subject': ['science', 'so_science', 'maths', 'hindi', 'english'],\n",
       " 'marks': [80, 90, 80, 70, 78, 89]}"
      ]
     },
     "execution_count": 131,
     "metadata": {},
     "output_type": "execute_result"
    }
   ],
   "source": [
    "my_marks"
   ]
  },
  {
   "cell_type": "code",
   "execution_count": 136,
   "id": "fe862a2a",
   "metadata": {},
   "outputs": [
    {
     "data": {
      "text/plain": [
       "'SO_SCIENCE'"
      ]
     },
     "execution_count": 136,
     "metadata": {},
     "output_type": "execute_result"
    }
   ],
   "source": [
    "my_marks['subject'][1].upper()"
   ]
  },
  {
   "cell_type": "code",
   "execution_count": 137,
   "id": "2b72b5bd",
   "metadata": {
    "scrolled": true
   },
   "outputs": [
    {
     "ename": "AttributeError",
     "evalue": "'int' object has no attribute 'lower'",
     "output_type": "error",
     "traceback": [
      "\u001b[1;31m---------------------------------------------------------------------------\u001b[0m",
      "\u001b[1;31mAttributeError\u001b[0m                            Traceback (most recent call last)",
      "\u001b[1;32m~\\AppData\\Local\\Temp/ipykernel_6784/866336995.py\u001b[0m in \u001b[0;36m<module>\u001b[1;34m\u001b[0m\n\u001b[1;32m----> 1\u001b[1;33m \u001b[0mmy_marks\u001b[0m\u001b[1;33m[\u001b[0m\u001b[1;34m'marks'\u001b[0m\u001b[1;33m]\u001b[0m\u001b[1;33m[\u001b[0m\u001b[1;36m2\u001b[0m\u001b[1;33m]\u001b[0m\u001b[1;33m.\u001b[0m\u001b[0mlower\u001b[0m\u001b[1;33m(\u001b[0m\u001b[1;33m)\u001b[0m\u001b[1;33m\u001b[0m\u001b[1;33m\u001b[0m\u001b[0m\n\u001b[0m",
      "\u001b[1;31mAttributeError\u001b[0m: 'int' object has no attribute 'lower'"
     ]
    }
   ],
   "source": [
    "my_marks['marks'][2].lower()"
   ]
  },
  {
   "cell_type": "code",
   "execution_count": 138,
   "id": "02e226e7",
   "metadata": {},
   "outputs": [
    {
     "data": {
      "text/plain": [
       "'english'"
      ]
     },
     "execution_count": 138,
     "metadata": {},
     "output_type": "execute_result"
    }
   ],
   "source": [
    "my_marks['subject'][4].lower()"
   ]
  },
  {
   "cell_type": "code",
   "execution_count": 140,
   "id": "c99b2820",
   "metadata": {},
   "outputs": [
    {
     "data": {
      "text/plain": [
       "1"
      ]
     },
     "execution_count": 140,
     "metadata": {},
     "output_type": "execute_result"
    }
   ],
   "source": [
    "my_marks['rollnumber']"
   ]
  },
  {
   "cell_type": "code",
   "execution_count": 143,
   "id": "fe834bd0",
   "metadata": {},
   "outputs": [
    {
     "ename": "KeyError",
     "evalue": "'maths'",
     "output_type": "error",
     "traceback": [
      "\u001b[1;31m---------------------------------------------------------------------------\u001b[0m",
      "\u001b[1;31mKeyError\u001b[0m                                  Traceback (most recent call last)",
      "\u001b[1;32m~\\AppData\\Local\\Temp/ipykernel_6784/2580169417.py\u001b[0m in \u001b[0;36m<module>\u001b[1;34m\u001b[0m\n\u001b[1;32m----> 1\u001b[1;33m \u001b[0mmy_marks\u001b[0m\u001b[1;33m[\u001b[0m\u001b[1;34m'maths'\u001b[0m\u001b[1;33m]\u001b[0m\u001b[1;33m\u001b[0m\u001b[1;33m\u001b[0m\u001b[0m\n\u001b[0m",
      "\u001b[1;31mKeyError\u001b[0m: 'maths'"
     ]
    }
   ],
   "source": [
    "my_marks['maths']"
   ]
  },
  {
   "cell_type": "code",
   "execution_count": 144,
   "id": "ac098168",
   "metadata": {},
   "outputs": [
    {
     "data": {
      "text/plain": [
       "90"
      ]
     },
     "execution_count": 144,
     "metadata": {},
     "output_type": "execute_result"
    }
   ],
   "source": [
    "my_marks['marks'][0]+10"
   ]
  },
  {
   "cell_type": "code",
   "execution_count": 145,
   "id": "da14eb02",
   "metadata": {},
   "outputs": [
    {
     "data": {
      "text/plain": [
       "80"
      ]
     },
     "execution_count": 145,
     "metadata": {},
     "output_type": "execute_result"
    }
   ],
   "source": [
    "my_marks['marks'][1]-10"
   ]
  },
  {
   "cell_type": "code",
   "execution_count": 147,
   "id": "50d67e04",
   "metadata": {},
   "outputs": [
    {
     "data": {
      "text/plain": [
       "{'rollnumber': 1,\n",
       " 'subject': ['science', 'so_science', 'maths', 'hindi', 'english'],\n",
       " 'marks': [80, 110, 80, 70, 78, 89]}"
      ]
     },
     "execution_count": 147,
     "metadata": {},
     "output_type": "execute_result"
    }
   ],
   "source": [
    "my_marks['marks'][1]+=10\n",
    "my_marks"
   ]
  },
  {
   "cell_type": "code",
   "execution_count": 162,
   "id": "6c2bd054",
   "metadata": {},
   "outputs": [
    {
     "data": {
      "text/plain": [
       "{'rollnumber': 1,\n",
       " 'subject': ['science', 'so_science', 'maths', 'hindi', 'english'],\n",
       " 'marks': [80, 110, 80, 70, 78, 89],\n",
       " 'year': 2009}"
      ]
     },
     "execution_count": 162,
     "metadata": {},
     "output_type": "execute_result"
    }
   ],
   "source": [
    "my_marks['year']=2009\n",
    "my_marks"
   ]
  },
  {
   "cell_type": "code",
   "execution_count": 156,
   "id": "898bd0f1",
   "metadata": {},
   "outputs": [],
   "source": [
    "my_marks.update({'rollnumber':1})"
   ]
  },
  {
   "cell_type": "code",
   "execution_count": 157,
   "id": "05b4ea56",
   "metadata": {},
   "outputs": [
    {
     "data": {
      "text/plain": [
       "{'rollnumber': 1,\n",
       " 'subject': ['science', 'so_science', 'maths', 'hindi', 'english'],\n",
       " 'marks': [80, 110, 80, 70, 78, 89],\n",
       " 'year': 2009}"
      ]
     },
     "execution_count": 157,
     "metadata": {},
     "output_type": "execute_result"
    }
   ],
   "source": [
    "my_marks"
   ]
  },
  {
   "cell_type": "code",
   "execution_count": 164,
   "id": "15cc060e",
   "metadata": {},
   "outputs": [
    {
     "data": {
      "text/plain": [
       "2009"
      ]
     },
     "execution_count": 164,
     "metadata": {},
     "output_type": "execute_result"
    }
   ],
   "source": [
    "my_marks.pop('year')"
   ]
  },
  {
   "cell_type": "code",
   "execution_count": 165,
   "id": "2eb75e3d",
   "metadata": {},
   "outputs": [
    {
     "data": {
      "text/plain": [
       "{'rollnumber': 1,\n",
       " 'subject': ['science', 'so_science', 'maths', 'hindi', 'english'],\n",
       " 'marks': [80, 110, 80, 70, 78, 89]}"
      ]
     },
     "execution_count": 165,
     "metadata": {},
     "output_type": "execute_result"
    }
   ],
   "source": [
    "my_marks"
   ]
  },
  {
   "cell_type": "code",
   "execution_count": 167,
   "id": "f112604a",
   "metadata": {},
   "outputs": [
    {
     "data": {
      "text/plain": [
       "dict_items([('rollnumber', 1), ('subject', ['science', 'so_science', 'maths', 'hindi', 'english']), ('marks', [80, 110, 80, 70, 78, 89])])"
      ]
     },
     "execution_count": 167,
     "metadata": {},
     "output_type": "execute_result"
    }
   ],
   "source": [
    "my_marks.items()"
   ]
  },
  {
   "cell_type": "markdown",
   "id": "34f0729c",
   "metadata": {},
   "source": [
    "# range"
   ]
  },
  {
   "cell_type": "code",
   "execution_count": 6,
   "id": "75356d08",
   "metadata": {},
   "outputs": [
    {
     "name": "stdout",
     "output_type": "stream",
     "text": [
      "[111, 112, 113, 114, 115, 116, 117, 118, 119, 120, 121, 122, 123, 124, 125, 126, 127, 128, 129, 130, 131, 132, 133, 134, 135, 136, 137, 138, 139, 140, 141, 142, 143, 144, 145, 146, 147, 148, 149, 150, 151, 152, 153, 154, 155, 156, 157, 158, 159, 160, 161, 162, 163, 164, 165, 166, 167, 168, 169, 170, 171, 172, 173, 174, 175, 176, 177, 178, 179, 180, 181, 182, 183, 184, 185, 186, 187, 188, 189, 190, 191, 192, 193, 194, 195, 196, 197, 198, 199, 200, 201, 202, 203, 204, 205, 206, 207, 208, 209, 210, 211, 212, 213, 214, 215, 216, 217, 218, 219, 220, 221, 222, 223, 224, 225, 226, 227, 228, 229, 230, 231, 232, 233, 234, 235, 236, 237, 238, 239, 240, 241, 242, 243, 244, 245, 246, 247, 248, 249, 250, 251, 252, 253, 254, 255, 256, 257, 258, 259, 260, 261, 262, 263, 264, 265, 266, 267, 268, 269, 270, 271, 272, 273, 274, 275, 276, 277, 278, 279, 280, 281, 282, 283, 284, 285, 286, 287, 288, 289, 290, 291, 292, 293, 294, 295, 296, 297, 298, 299, 300, 301, 302, 303, 304, 305, 306, 307, 308, 309, 310, 311, 312, 313, 314, 315, 316, 317, 318, 319, 320, 321, 322, 323, 324, 325, 326, 327, 328, 329, 330, 331, 332, 333, 334, 335, 336, 337, 338, 339, 340, 341, 342, 343, 344, 345, 346, 347, 348, 349, 350, 351, 352, 353, 354, 355, 356, 357, 358, 359, 360, 361, 362, 363, 364, 365, 366, 367, 368, 369, 370, 371, 372, 373, 374, 375, 376, 377, 378, 379, 380, 381, 382, 383, 384, 385, 386, 387, 388, 389, 390, 391, 392, 393, 394, 395, 396, 397, 398, 399, 400, 401, 402, 403, 404, 405, 406, 407, 408, 409, 410, 411, 412, 413, 414, 415, 416, 417, 418, 419, 420, 421, 422, 423, 424, 425, 426, 427, 428, 429, 430, 431, 432, 433, 434, 435, 436, 437, 438, 439, 440, 441, 442, 443, 444, 445, 446, 447, 448, 449, 450, 451, 452, 453, 454, 455, 456, 457, 458, 459, 460, 461, 462, 463, 464, 465, 466, 467, 468, 469, 470, 471, 472, 473, 474, 475, 476, 477, 478, 479, 480, 481, 482, 483, 484, 485, 486, 487, 488, 489, 490, 491, 492, 493, 494, 495, 496, 497, 498, 499, 500, 501, 502, 503, 504, 505, 506, 507, 508, 509, 510, 511, 512, 513, 514, 515, 516, 517, 518, 519, 520, 521, 522, 523, 524, 525, 526, 527, 528, 529, 530, 531, 532, 533, 534, 535, 536, 537, 538, 539, 540, 541, 542, 543, 544, 545, 546, 547, 548, 549, 550, 551, 552, 553, 554, 555, 556, 557, 558, 559, 560, 561, 562, 563, 564, 565, 566, 567, 568, 569, 570, 571, 572, 573, 574, 575, 576, 577, 578, 579, 580, 581, 582, 583, 584, 585, 586, 587, 588, 589, 590, 591, 592, 593, 594, 595, 596, 597, 598, 599, 600, 601, 602, 603, 604, 605, 606, 607, 608, 609, 610, 611, 612, 613, 614, 615, 616, 617, 618, 619, 620, 621, 622, 623, 624, 625, 626, 627, 628, 629, 630, 631, 632, 633, 634, 635, 636, 637, 638, 639, 640, 641, 642, 643, 644, 645, 646, 647, 648, 649, 650, 651, 652, 653, 654, 655, 656, 657, 658, 659, 660, 661, 662, 663, 664, 665, 666, 667, 668, 669, 670, 671, 672, 673, 674, 675, 676, 677, 678, 679, 680, 681, 682, 683, 684, 685, 686, 687, 688, 689, 690, 691, 692, 693, 694, 695, 696, 697, 698, 699, 700, 701, 702, 703, 704, 705, 706, 707, 708, 709, 710, 711, 712, 713, 714, 715, 716, 717, 718, 719, 720, 721, 722, 723, 724, 725, 726, 727, 728, 729, 730, 731, 732, 733, 734, 735, 736, 737, 738, 739, 740, 741, 742, 743, 744, 745, 746, 747, 748, 749, 750, 751, 752, 753, 754, 755, 756, 757, 758, 759, 760, 761, 762, 763, 764, 765, 766, 767, 768, 769, 770, 771, 772, 773, 774, 775, 776, 777, 778, 779, 780, 781, 782, 783, 784, 785, 786, 787, 788, 789, 790, 791, 792, 793, 794, 795, 796, 797, 798, 799, 800, 801, 802, 803, 804, 805, 806, 807, 808, 809, 810, 811, 812, 813, 814, 815, 816, 817, 818, 819, 820, 821, 822, 823, 824, 825, 826, 827, 828, 829, 830, 831, 832, 833, 834, 835, 836, 837, 838, 839, 840, 841, 842, 843, 844, 845, 846, 847, 848, 849, 850, 851, 852, 853, 854, 855, 856, 857, 858, 859, 860, 861, 862, 863, 864, 865, 866, 867, 868, 869, 870, 871, 872, 873, 874, 875, 876, 877, 878, 879, 880, 881, 882, 883, 884, 885, 886, 887, 888, 889, 890, 891, 892, 893, 894, 895, 896, 897, 898, 899, 900, 901, 902, 903, 904, 905, 906, 907, 908, 909, 910, 911, 912, 913, 914, 915, 916, 917, 918, 919, 920, 921, 922, 923, 924, 925, 926, 927, 928, 929, 930, 931, 932, 933, 934, 935, 936, 937, 938, 939, 940, 941, 942, 943, 944, 945, 946, 947, 948, 949, 950, 951, 952, 953, 954, 955, 956, 957, 958, 959, 960, 961, 962, 963, 964, 965, 966, 967, 968, 969, 970, 971, 972, 973, 974, 975, 976, 977, 978, 979, 980, 981, 982, 983, 984, 985, 986, 987, 988, 989, 990, 991, 992, 993, 994, 995, 996, 997, 998, 999]\n"
     ]
    }
   ],
   "source": [
    "print(list(range(111,1000)))"
   ]
  },
  {
   "cell_type": "code",
   "execution_count": 4,
   "id": "bd404e3a",
   "metadata": {},
   "outputs": [
    {
     "name": "stdout",
     "output_type": "stream",
     "text": [
      "[100, 103, 106, 109, 112, 115, 118, 121, 124, 127, 130, 133, 136, 139, 142, 145, 148]\n"
     ]
    }
   ],
   "source": [
    "print(list(range(100,150,3)))"
   ]
  },
  {
   "cell_type": "code",
   "execution_count": 5,
   "id": "63a4e210",
   "metadata": {},
   "outputs": [
    {
     "name": "stdout",
     "output_type": "stream",
     "text": [
      "range(1, 10)\n"
     ]
    }
   ],
   "source": [
    "print(range(1,10))"
   ]
  },
  {
   "cell_type": "code",
   "execution_count": 19,
   "id": "b29d7fe6",
   "metadata": {},
   "outputs": [
    {
     "data": {
      "text/plain": [
       "[1000,\n",
       " 950,\n",
       " 900,\n",
       " 850,\n",
       " 800,\n",
       " 750,\n",
       " 700,\n",
       " 650,\n",
       " 600,\n",
       " 550,\n",
       " 500,\n",
       " 450,\n",
       " 400,\n",
       " 350,\n",
       " 300,\n",
       " 250,\n",
       " 200,\n",
       " 150]"
      ]
     },
     "execution_count": 19,
     "metadata": {},
     "output_type": "execute_result"
    }
   ],
   "source": [
    "list(range(1000,100,-50))"
   ]
  },
  {
   "cell_type": "code",
   "execution_count": 23,
   "id": "6e23b25f",
   "metadata": {},
   "outputs": [
    {
     "data": {
      "text/plain": [
       "[10,\n",
       " 13,\n",
       " 16,\n",
       " 19,\n",
       " 22,\n",
       " 25,\n",
       " 28,\n",
       " 31,\n",
       " 34,\n",
       " 37,\n",
       " 40,\n",
       " 43,\n",
       " 46,\n",
       " 49,\n",
       " 52,\n",
       " 55,\n",
       " 58,\n",
       " 61,\n",
       " 64,\n",
       " 67,\n",
       " 70,\n",
       " 73,\n",
       " 76,\n",
       " 79,\n",
       " 82,\n",
       " 85,\n",
       " 88,\n",
       " 91,\n",
       " 94,\n",
       " 97]"
      ]
     },
     "execution_count": 23,
     "metadata": {},
     "output_type": "execute_result"
    }
   ],
   "source": [
    "list(range(10,100,3))"
   ]
  },
  {
   "cell_type": "markdown",
   "id": "3cef1a21",
   "metadata": {},
   "source": [
    "# functions"
   ]
  },
  {
   "cell_type": "markdown",
   "id": "1a9d6156",
   "metadata": {},
   "source": [
    "### def statements"
   ]
  },
  {
   "cell_type": "code",
   "execution_count": 35,
   "id": "888fb271",
   "metadata": {},
   "outputs": [
    {
     "name": "stdout",
     "output_type": "stream",
     "text": [
      " abhi\n"
     ]
    }
   ],
   "source": [
    "def say_hello():\n",
    "    print(' abhi')\n",
    "say_hello()"
   ]
  },
  {
   "cell_type": "code",
   "execution_count": 36,
   "id": "1daf65d1",
   "metadata": {},
   "outputs": [
    {
     "name": "stdout",
     "output_type": "stream",
     "text": [
      " abhi\n"
     ]
    }
   ],
   "source": [
    "say_hello()"
   ]
  },
  {
   "cell_type": "code",
   "execution_count": 9,
   "id": "3abf0be9",
   "metadata": {},
   "outputs": [
    {
     "name": "stdout",
     "output_type": "stream",
     "text": [
      "u know me\n"
     ]
    }
   ],
   "source": [
    "def say_hi():\n",
    "    print('u know me')\n",
    "say_hi()"
   ]
  },
  {
   "cell_type": "code",
   "execution_count": 31,
   "id": "47171b23",
   "metadata": {},
   "outputs": [],
   "source": [
    "def greetings(abhi):\n",
    "    print('hello', abhi)\n"
   ]
  },
  {
   "cell_type": "code",
   "execution_count": 33,
   "id": "c54733c2",
   "metadata": {},
   "outputs": [
    {
     "name": "stdout",
     "output_type": "stream",
     "text": [
      "hello dear\n"
     ]
    }
   ],
   "source": [
    "greetings('dear')"
   ]
  },
  {
   "cell_type": "markdown",
   "id": "f1694fee",
   "metadata": {},
   "source": [
    "## using return"
   ]
  },
  {
   "cell_type": "code",
   "execution_count": 12,
   "id": "fea65564",
   "metadata": {},
   "outputs": [],
   "source": [
    "def salary_inc(salary):\n",
    "    if salary<=9000:\n",
    "        (salary+3000)\n",
    "    else:\n",
    "        salary"
   ]
  },
  {
   "cell_type": "code",
   "execution_count": 13,
   "id": "eb85ddfe",
   "metadata": {},
   "outputs": [
    {
     "name": "stdout",
     "output_type": "stream",
     "text": [
      "new salary= None\n"
     ]
    }
   ],
   "source": [
    "print('new salary=',salary_inc(1000))"
   ]
  },
  {
   "cell_type": "code",
   "execution_count": 15,
   "id": "6fe5fe85",
   "metadata": {},
   "outputs": [],
   "source": [
    "def salary_inc(salary):\n",
    "    if salary<=9000:\n",
    "        return(salary+3000)\n",
    "    else:\n",
    "        return salary"
   ]
  },
  {
   "cell_type": "code",
   "execution_count": 16,
   "id": "de5e5d19",
   "metadata": {},
   "outputs": [
    {
     "name": "stdout",
     "output_type": "stream",
     "text": [
      "new salary= 4000\n"
     ]
    }
   ],
   "source": [
    "print('new salary=',salary_inc(1000))"
   ]
  },
  {
   "cell_type": "markdown",
   "id": "f71bebee",
   "metadata": {},
   "source": [
    "### with multiple arguments"
   ]
  },
  {
   "cell_type": "code",
   "execution_count": 4,
   "id": "54e2e5e7",
   "metadata": {},
   "outputs": [],
   "source": [
    "def students_marks(math,science,english):\n",
    "    return(math+science+english)"
   ]
  },
  {
   "cell_type": "code",
   "execution_count": 5,
   "id": "3514d987",
   "metadata": {},
   "outputs": [
    {
     "name": "stdout",
     "output_type": "stream",
     "text": [
      "marks= 30\n"
     ]
    }
   ],
   "source": [
    "print('marks=',students_marks(10,10,10))"
   ]
  },
  {
   "cell_type": "code",
   "execution_count": 8,
   "id": "943a211e",
   "metadata": {},
   "outputs": [
    {
     "data": {
      "text/plain": [
       "33"
      ]
     },
     "execution_count": 8,
     "metadata": {},
     "output_type": "execute_result"
    }
   ],
   "source": [
    "total_marks=students_marks(11,11,11)\n",
    "total_marks"
   ]
  },
  {
   "cell_type": "code",
   "execution_count": 11,
   "id": "50a8860c",
   "metadata": {},
   "outputs": [
    {
     "name": "stdout",
     "output_type": "stream",
     "text": [
      "179 -you are first class\n"
     ]
    }
   ],
   "source": [
    "total_marks=students_marks(89,34,56)\n",
    "if total_marks<90:\n",
    "    print(total_marks,'-you are fail')\n",
    "elif total_marks >=90 and total_marks <=150:\n",
    "    print(total_marks,'-you are pass')\n",
    "elif total_marks>=151 and total_marks<=250:\n",
    "    print(total_marks,'-you are first class')\n",
    "else:\n",
    "    print(total_marks,'-you are distinction')"
   ]
  },
  {
   "cell_type": "code",
   "execution_count": 30,
   "id": "ee856863",
   "metadata": {},
   "outputs": [],
   "source": [
    "def phone_price(phone_make,phone_age,phone_model_gb):\n",
    "    if phone_make=='iphone 11':\n",
    "        if 0<phone_age<=6: #if 0 is lesser than phone_age and phone_age is less than or equal to 6\n",
    "            if phone_model_gb==64:\n",
    "                print('rs 39000 -rs 40000')\n",
    "            elif phone_model_gb==128:\n",
    "                print('rs 56000-rs 60000')\n",
    "                \n",
    "        if 6 <phone_age<=12: #if 6 is lesser than age and age is less than or equal to 12\n",
    "            if phone_model_gb==64:\n",
    "                print('rs 20000-rs 30000')\n",
    "            elif phone_model_gb==128:\n",
    "                print('rs 35000-rs 40000')\n",
    "            \n",
    "        elif phone_make =='samsung i note 10':\n",
    "            if 0<phone_age<=6:\n",
    "                print('₹ 4000-₹ 5000')\n",
    "            elif phone_age>6:\n",
    "                print('₹711-₹755')"
   ]
  },
  {
   "cell_type": "code",
   "execution_count": 37,
   "id": "eb494e19",
   "metadata": {},
   "outputs": [
    {
     "name": "stdout",
     "output_type": "stream",
     "text": [
      "rs 20000-rs 30000\n"
     ]
    }
   ],
   "source": [
    "phone_price('iphone 11',8,64)"
   ]
  },
  {
   "cell_type": "markdown",
   "id": "5cc1189a",
   "metadata": {},
   "source": [
    "# lambda function"
   ]
  },
  {
   "cell_type": "code",
   "execution_count": 1,
   "id": "98fd95fb",
   "metadata": {},
   "outputs": [
    {
     "data": {
      "text/plain": [
       "<function __main__.<lambda>(arguments)>"
      ]
     },
     "execution_count": 1,
     "metadata": {},
     "output_type": "execute_result"
    }
   ],
   "source": [
    "lambda arguments: expression"
   ]
  },
  {
   "cell_type": "code",
   "execution_count": 2,
   "id": "2bb7acf8",
   "metadata": {},
   "outputs": [
    {
     "name": "stdout",
     "output_type": "stream",
     "text": [
      "80\n"
     ]
    }
   ],
   "source": [
    "add_num=lambda y : y+30\n",
    "print(add_num(50))"
   ]
  },
  {
   "cell_type": "code",
   "execution_count": 3,
   "id": "9fb9bc7b",
   "metadata": {},
   "outputs": [
    {
     "name": "stdout",
     "output_type": "stream",
     "text": [
      "200\n"
     ]
    }
   ],
   "source": [
    "multi_num = lambda a,b: a*b\n",
    "\n",
    "print(multi_num(10,20))\n",
    "\n"
   ]
  },
  {
   "cell_type": "markdown",
   "id": "2bfbbf81",
   "metadata": {},
   "source": [
    "# input from user/keyboars"
   ]
  },
  {
   "cell_type": "code",
   "execution_count": 4,
   "id": "1719665f",
   "metadata": {},
   "outputs": [
    {
     "name": "stdout",
     "output_type": "stream",
     "text": [
      "enter your namekushagra\n",
      "user entered: kushagra\n"
     ]
    }
   ],
   "source": [
    "name=input(\"enter your name\")\n",
    "print('user entered:',name)"
   ]
  },
  {
   "cell_type": "code",
   "execution_count": 5,
   "id": "7b9e6c9b",
   "metadata": {},
   "outputs": [
    {
     "name": "stdout",
     "output_type": "stream",
     "text": [
      "enter your namebhavya\n",
      "user entered: bhavya\n"
     ]
    }
   ],
   "source": [
    "name=input(\"enter your name\")\n",
    "print('user entered:',name)"
   ]
  },
  {
   "cell_type": "code",
   "execution_count": 6,
   "id": "543b8055",
   "metadata": {},
   "outputs": [
    {
     "name": "stdout",
     "output_type": "stream",
     "text": [
      "enter your name bhayyu\n"
     ]
    }
   ],
   "source": [
    "name=input('enter your name')"
   ]
  },
  {
   "cell_type": "code",
   "execution_count": 8,
   "id": "5379ba15",
   "metadata": {},
   "outputs": [
    {
     "name": "stdout",
     "output_type": "stream",
     "text": [
      "science marks67\n",
      "maths marks78\n",
      "your total marks 145\n"
     ]
    }
   ],
   "source": [
    "science=int(input('science marks'))\n",
    "maths=int(input('maths marks'))\n",
    "total_marks=science+maths\n",
    "print('your total marks', total_marks)"
   ]
  },
  {
   "cell_type": "code",
   "execution_count": null,
   "id": "076a3093",
   "metadata": {},
   "outputs": [],
   "source": []
  },
  {
   "cell_type": "code",
   "execution_count": 9,
   "id": "672ae4c0",
   "metadata": {},
   "outputs": [],
   "source": [
    "def my_fun(*args):\n",
    "    for i in args:\n",
    "        print('my args:-',i)"
   ]
  },
  {
   "cell_type": "code",
   "execution_count": 10,
   "id": "4bd652b8",
   "metadata": {},
   "outputs": [
    {
     "name": "stdout",
     "output_type": "stream",
     "text": [
      "my args:- india\n",
      "my args:- 56\n",
      "my args:- bengaluru\n",
      "my args:- 30.4\n",
      "my args:- 234\n"
     ]
    }
   ],
   "source": [
    "my_fun('india',56,'bengaluru',30.40,234)"
   ]
  },
  {
   "cell_type": "markdown",
   "id": "be643d75",
   "metadata": {},
   "source": [
    "##### kwarg take any value, just like dictionary data"
   ]
  },
  {
   "cell_type": "code",
   "execution_count": 13,
   "id": "ee05e788",
   "metadata": {},
   "outputs": [],
   "source": [
    "def my_kwargs(**kwargs):\n",
    "    for key, value in kwargs.items():\n",
    "        print(key,value)"
   ]
  },
  {
   "cell_type": "code",
   "execution_count": 16,
   "id": "85de6b7c",
   "metadata": {},
   "outputs": [
    {
     "name": "stdout",
     "output_type": "stream",
     "text": [
      "students ['ram', 'shivu']\n",
      "marks [70, 75]\n"
     ]
    }
   ],
   "source": [
    "my_kwargs(students=['ram','shivu'],marks=[70,75])"
   ]
  },
  {
   "cell_type": "code",
   "execution_count": 1,
   "id": "f97d257b",
   "metadata": {},
   "outputs": [
    {
     "data": {
      "text/plain": [
       "'what is problem'"
      ]
     },
     "execution_count": 1,
     "metadata": {},
     "output_type": "execute_result"
    }
   ],
   "source": [
    "s='what is problem'\n",
    "s"
   ]
  },
  {
   "cell_type": "code",
   "execution_count": 2,
   "id": "bf4df7df",
   "metadata": {},
   "outputs": [
    {
     "data": {
      "text/plain": [
       "'w'"
      ]
     },
     "execution_count": 2,
     "metadata": {},
     "output_type": "execute_result"
    }
   ],
   "source": [
    "s[0]"
   ]
  },
  {
   "cell_type": "code",
   "execution_count": 3,
   "id": "07587021",
   "metadata": {},
   "outputs": [
    {
     "data": {
      "text/plain": [
       "'p'"
      ]
     },
     "execution_count": 3,
     "metadata": {},
     "output_type": "execute_result"
    }
   ],
   "source": [
    "s[8]"
   ]
  },
  {
   "cell_type": "code",
   "execution_count": 4,
   "id": "7847ad1d",
   "metadata": {},
   "outputs": [
    {
     "data": {
      "text/plain": [
       "'what is '"
      ]
     },
     "execution_count": 4,
     "metadata": {},
     "output_type": "execute_result"
    }
   ],
   "source": [
    "s[:8]"
   ]
  },
  {
   "cell_type": "code",
   "execution_count": 5,
   "id": "7fb616f2",
   "metadata": {},
   "outputs": [
    {
     "data": {
      "text/plain": [
       "'hat is problem'"
      ]
     },
     "execution_count": 5,
     "metadata": {},
     "output_type": "execute_result"
    }
   ],
   "source": [
    "s[1:]"
   ]
  },
  {
   "cell_type": "code",
   "execution_count": 6,
   "id": "769a2f9b",
   "metadata": {},
   "outputs": [
    {
     "data": {
      "text/plain": [
       "'t is '"
      ]
     },
     "execution_count": 6,
     "metadata": {},
     "output_type": "execute_result"
    }
   ],
   "source": [
    "s[3:8]"
   ]
  },
  {
   "cell_type": "code",
   "execution_count": 7,
   "id": "13ddd03c",
   "metadata": {},
   "outputs": [
    {
     "data": {
      "text/plain": [
       "'m'"
      ]
     },
     "execution_count": 7,
     "metadata": {},
     "output_type": "execute_result"
    }
   ],
   "source": [
    "s[-1]"
   ]
  },
  {
   "cell_type": "code",
   "execution_count": 9,
   "id": "304a4489",
   "metadata": {},
   "outputs": [
    {
     "data": {
      "text/plain": [
       "'hti rbe'"
      ]
     },
     "execution_count": 9,
     "metadata": {},
     "output_type": "execute_result"
    }
   ],
   "source": [
    "s[1::2]#after 2 colons it is a step size"
   ]
  },
  {
   "cell_type": "markdown",
   "id": "120305e2",
   "metadata": {},
   "source": [
    "# map"
   ]
  },
  {
   "cell_type": "code",
   "execution_count": 14,
   "id": "57c2033a",
   "metadata": {},
   "outputs": [],
   "source": [
    "def grace_marks(marks):\n",
    "    if marks==33:\n",
    "        return(marks+2)\n",
    "    elif marks ==34:\n",
    "        return(marks+1)\n",
    "    else:\n",
    "        return marks"
   ]
  },
  {
   "cell_type": "code",
   "execution_count": 22,
   "id": "9a5ca974",
   "metadata": {},
   "outputs": [],
   "source": [
    "score=[50,40,34,35,32,33,33,35,56]"
   ]
  },
  {
   "cell_type": "code",
   "execution_count": 19,
   "id": "bf701862",
   "metadata": {},
   "outputs": [
    {
     "name": "stdout",
     "output_type": "stream",
     "text": [
      "[50, 40, 35, 35, 32, 35, 35, 35, 56]\n"
     ]
    }
   ],
   "source": [
    "total=list(map(grace_marks,score))\n",
    "print(total)"
   ]
  },
  {
   "cell_type": "code",
   "execution_count": 20,
   "id": "aa7b2150",
   "metadata": {},
   "outputs": [
    {
     "data": {
      "text/plain": [
       "5"
      ]
     },
     "execution_count": 20,
     "metadata": {},
     "output_type": "execute_result"
    }
   ],
   "source": [
    "total.count(35)"
   ]
  },
  {
   "cell_type": "markdown",
   "id": "54953b31",
   "metadata": {},
   "source": [
    "# filter"
   ]
  },
  {
   "cell_type": "code",
   "execution_count": 21,
   "id": "1a69bdcb",
   "metadata": {},
   "outputs": [],
   "source": [
    "def filter_marks(marks):\n",
    "    if marks<35:\n",
    "        return marks"
   ]
  },
  {
   "cell_type": "code",
   "execution_count": 23,
   "id": "f99c8373",
   "metadata": {},
   "outputs": [
    {
     "data": {
      "text/plain": [
       "[34, 32, 33, 33]"
      ]
     },
     "execution_count": 23,
     "metadata": {},
     "output_type": "execute_result"
    }
   ],
   "source": [
    "failed=list(filter(filter_marks,score))\n",
    "failed\n"
   ]
  },
  {
   "cell_type": "code",
   "execution_count": 31,
   "id": "e5248790",
   "metadata": {},
   "outputs": [
    {
     "data": {
      "text/plain": [
       "1"
      ]
     },
     "execution_count": 31,
     "metadata": {},
     "output_type": "execute_result"
    }
   ],
   "source": [
    "1%5"
   ]
  },
  {
   "cell_type": "code",
   "execution_count": 79,
   "id": "a9410044",
   "metadata": {},
   "outputs": [
    {
     "data": {
      "text/plain": [
       "1"
      ]
     },
     "execution_count": 79,
     "metadata": {},
     "output_type": "execute_result"
    }
   ],
   "source": [
    "7%2"
   ]
  },
  {
   "cell_type": "code",
   "execution_count": 4,
   "id": "5614e4a8",
   "metadata": {},
   "outputs": [
    {
     "data": {
      "text/plain": [
       "[False, False, True]"
      ]
     },
     "execution_count": 4,
     "metadata": {},
     "output_type": "execute_result"
    }
   ],
   "source": [
    "list(map(lambda var:var%2==0,[1,3,2]))"
   ]
  },
  {
   "cell_type": "code",
   "execution_count": 5,
   "id": "b705e4fe",
   "metadata": {},
   "outputs": [
    {
     "data": {
      "text/plain": [
       "[2]"
      ]
     },
     "execution_count": 5,
     "metadata": {},
     "output_type": "execute_result"
    }
   ],
   "source": [
    "list(filter(lambda var:var%2==0,[1,3,2]))"
   ]
  },
  {
   "cell_type": "markdown",
   "id": "867c8d54",
   "metadata": {},
   "source": [
    "# global and local variable"
   ]
  },
  {
   "cell_type": "code",
   "execution_count": 7,
   "id": "255895c3",
   "metadata": {},
   "outputs": [
    {
     "name": "stdout",
     "output_type": "stream",
     "text": [
      "printing inside the function and total is 45\n"
     ]
    }
   ],
   "source": [
    "extra_marks=10\n",
    "def glo_variable():\n",
    "    print('printing inside the function and total is',35\n",
    "         +extra_marks)\n",
    "glo_variable()"
   ]
  },
  {
   "cell_type": "code",
   "execution_count": 8,
   "id": "a1ee1abe",
   "metadata": {},
   "outputs": [
    {
     "name": "stdout",
     "output_type": "stream",
     "text": [
      "printing inside the function and total is 45\n"
     ]
    }
   ],
   "source": [
    "print('printing inside the function and total is',35\n",
    "         +extra_marks)"
   ]
  },
  {
   "cell_type": "code",
   "execution_count": 13,
   "id": "ad959084",
   "metadata": {},
   "outputs": [
    {
     "name": "stdout",
     "output_type": "stream",
     "text": [
      "printing outside the function and total is 100\n"
     ]
    }
   ],
   "source": [
    "def loc_variable():\n",
    "    some_marks=50\n",
    "    print('printing outside the function and total is', 50 + some_marks)\n",
    "loc_variable()"
   ]
  },
  {
   "cell_type": "code",
   "execution_count": 16,
   "id": "8085120f",
   "metadata": {},
   "outputs": [
    {
     "ename": "NameError",
     "evalue": "name 'some_marks' is not defined",
     "output_type": "error",
     "traceback": [
      "\u001b[1;31m---------------------------------------------------------------------------\u001b[0m",
      "\u001b[1;31mNameError\u001b[0m                                 Traceback (most recent call last)",
      "\u001b[1;32m~\\AppData\\Local\\Temp/ipykernel_5536/1871780761.py\u001b[0m in \u001b[0;36m<module>\u001b[1;34m\u001b[0m\n\u001b[1;32m----> 1\u001b[1;33m \u001b[0mprint\u001b[0m\u001b[1;33m(\u001b[0m\u001b[1;34m'printing outside the function and total is'\u001b[0m\u001b[1;33m,\u001b[0m \u001b[1;36m50\u001b[0m \u001b[1;33m+\u001b[0m \u001b[0msome_marks\u001b[0m\u001b[1;33m)\u001b[0m\u001b[1;33m\u001b[0m\u001b[1;33m\u001b[0m\u001b[0m\n\u001b[0m",
      "\u001b[1;31mNameError\u001b[0m: name 'some_marks' is not defined"
     ]
    }
   ],
   "source": [
    "print('printing outside the function and total is', 50 + some_marks)"
   ]
  },
  {
   "cell_type": "code",
   "execution_count": 19,
   "id": "69ad2c8f",
   "metadata": {},
   "outputs": [
    {
     "name": "stdout",
     "output_type": "stream",
     "text": [
      "this is fantastic\n"
     ]
    }
   ],
   "source": [
    "def local_global():\n",
    "    global var20\n",
    "    var20='this is fantastic'\n",
    "    print(var20)\n",
    "local_global()"
   ]
  },
  {
   "cell_type": "markdown",
   "id": "87da9af2",
   "metadata": {},
   "source": [
    "## Errors and exception handling"
   ]
  },
  {
   "cell_type": "code",
   "execution_count": 25,
   "id": "64b869fd",
   "metadata": {},
   "outputs": [
    {
     "name": "stdout",
     "output_type": "stream",
     "text": [
      "hello\n"
     ]
    }
   ],
   "source": [
    "print('hello')"
   ]
  },
  {
   "cell_type": "code",
   "execution_count": null,
   "id": "6a192c17",
   "metadata": {},
   "outputs": [],
   "source": [
    "try:\n",
    "    "
   ]
  }
 ],
 "metadata": {
  "kernelspec": {
   "display_name": "Python 3 (ipykernel)",
   "language": "python",
   "name": "python3"
  },
  "language_info": {
   "codemirror_mode": {
    "name": "ipython",
    "version": 3
   },
   "file_extension": ".py",
   "mimetype": "text/x-python",
   "name": "python",
   "nbconvert_exporter": "python",
   "pygments_lexer": "ipython3",
   "version": "3.9.7"
  }
 },
 "nbformat": 4,
 "nbformat_minor": 5
}
